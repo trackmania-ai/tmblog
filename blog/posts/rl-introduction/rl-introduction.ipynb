{
 "cells": [
  {
   "cell_type": "raw",
   "id": "0ba9595e-f833-43c1-936f-d7d88ec47067",
   "metadata": {},
   "source": [
    "---\n",
    "author: Pierre Porcher\n",
    "date: 2023-04-25\n",
    "title: \"Introduction to Deep Reinforcement Learning (Trackmania AI POV)\"\n",
    "format: \n",
    "  html:\n",
    "    code-fold: true\n",
    "jupyter: python3\n",
    "---"
   ]
  },
  {
   "cell_type": "markdown",
   "id": "b241f6b3-98bb-4b2b-a5fb-ec99a92976cf",
   "metadata": {},
   "source": [
    "Welcome to the wonderful land of Deep Reinforcement Learning, a hot topic in Artifical Intelligence.\n",
    "\n",
    "Deep RL is a type of Machine Learning where an agent learns how to behave in an environment by performing actions and looking at the results.\n",
    "\n",
    "In this blog post, we will explore the basics of deep reinforcement learning. We will focus on what [PedroAI]({{< var stream >}}) project uses. The project features an AI learning to play the popular racing game [Trackmania]({{< var trackmania >}}). The entire process is streamed on [Twitch]({{< var stream >}}) allowing viewers to watch the AI improve over time."
   ]
  },
  {
   "cell_type": "markdown",
   "id": "6a8a4240-49da-4503-8e4c-fb46fa4350c7",
   "metadata": {},
   "source": [
    "::: {.callout-note}\n",
    "We will be introducing some key concepts about deep reinforcement learning that are used by PedroAI. For a more in-depth introduction to deep reinforcement learning, I recommend checking out [this blog post](https://huggingface.co/learn/deep-rl-course/unit1/introduction) from Thomas Simonini and Omar Sanseviero. The current post is heavily inspired by their work.\n",
    ":::"
   ]
  },
  {
   "cell_type": "markdown",
   "id": "16e277c0-6f95-4bf8-87e6-6dfb6e0a0860",
   "metadata": {},
   "source": [
    "This article is the first of a two-part series where we first learn about deep reinforcement learning basics before diving deeper into the specificities of the [PedroAI]({{< var stream >}}) project.\n",
    "\n",
    "- Introduction to Deep Reinforcement Learning (Trackmania AI POV)\n",
    "- [How PedroAI works](../pedroai-rl/pedroai-rl.html)\n",
    "\n",
    "A third article about the technical details of [PedroAI]({{< var stream >}}) is being written as you read this."
   ]
  },
  {
   "cell_type": "markdown",
   "id": "af84c60f-196a-4a45-9ce5-292ab70d4179",
   "metadata": {},
   "source": [
    "# What is Reinforcement Learning?\n",
    "\n",
    "To understand Reinforcement Learning, let’s start with the big picture."
   ]
  },
  {
   "cell_type": "markdown",
   "id": "96df3d46-a081-4e1a-be21-794b5833ea23",
   "metadata": {},
   "source": [
    "## The big picture\n",
    "\n",
    "The idea behind Reinforcement Learning is that an agent will learn from the environment by interacting with it through trial and error and receiving rewards, negative or positive, as feedback for performing actions.\n",
    "\n",
    "Imagine putting your little sister in front of a slightly modified version of Trackmania where crossing a checkpoint or the finish line gives you one point but falling in the water substracts one point. You put a controller in her hands and let her alone.\n",
    "\n",
    "<img src=\"sister_start.png\" alt=\"Sister at the start of a Trackmania map\" style=\"border-radius:10px; width:100%\">\n",
    "\n",
    "Your sister will interact with the environment, the Trackmania game, by pressing the forward trigger (action). She got a checkpoint, that's a +1 reward. It's positive, she just understood that in this game she must get checkpoints.\n",
    "\n",
    "<img src=\"sister_positive.png\" alt=\"Sister gets +1 rewards after crossing a checkpoint\" style=\"border-radius:10px; width:100%\">\n",
    "\n",
    "She continues to press forward but presses left too late to take the turn and falls in the water, that's -1 reward.\n",
    "\n",
    "<img src=\"sister_negative.png\" alt=\"Sister gets -1 rewards after falling in the water\" style=\"border-radius:10px; width:100%\">\n",
    "\n",
    "By interacting with her environment, through trial and error, your little sister understood that, in this environment, she must take checkpoints and not fall.\n",
    "\n",
    "Without any supervision, your sister will get better and better at playing the game.\n",
    "\n",
    "That’s how humans and animals learn, through interaction. Reinforcement Learning is just a computational approach of learning from action."
   ]
  },
  {
   "cell_type": "markdown",
   "id": "59cdc2ce-7a8b-4ee2-a386-e6db7ff09399",
   "metadata": {},
   "source": [
    "## A formal definition\n",
    "\n",
    "If we take now a formal definition:\n",
    "\n",
    "> Reinforcement learning is a framework for solving control tasks, also called decision problems, by building agents that learn from the environment by interacting with it through trial and error and receiving rewards, positive or negative, as unique feedback.\n",
    "\n",
    "But how does Reinforcement Learning work?"
   ]
  },
  {
   "cell_type": "markdown",
   "id": "4517e90f-e303-4ff9-ab77-46acfcd49536",
   "metadata": {},
   "source": [
    "# The Reinforcement Learning Framework"
   ]
  },
  {
   "cell_type": "markdown",
   "id": "73889620-a62b-4602-b295-f89c22c7ab3b",
   "metadata": {},
   "source": [
    "## The RL Process\n",
    "\n",
    "The RL Process is a loop of state, action, reward and next state:\n",
    "\n",
    "![The RL Process loop](rl_loop.svg)\n",
    "\n",
    "To understand the RL process, let's consider PedroAI learning to play Trackmania:\n",
    "\n",
    "![The RL Process loop with Trackmania](rl_loop_tm.svg)\n",
    "\n",
    "- The Agent receives state S<sub>0</sub> from the Environment, the first frame of the game.\n",
    "- Based on that state S<sub>0</sub>, the agent takes action A<sub>0</sub>, the car will go forward.\n",
    "- The Environment goes to a new state S<sub>1</sub>, a new frame.\n",
    "- The Environment gives some reward R<sub>1</sub>.\n",
    "\n",
    "This RL loop outputs a sequence of state, action, reward and next state.\n",
    "\n",
    "![](sars.svg){fig-align=center}\n",
    "\n",
    "The agent's goal is to maximize its cumulative reward, called return."
   ]
  },
  {
   "cell_type": "markdown",
   "id": "7685a7fc-3acf-4fe0-9baf-ae63a8cd472d",
   "metadata": {},
   "source": [
    "## The reward hypothesis: the central idea of Reinforcement Learning\n",
    "\n",
    "Reinforcement Learning is based on the reward hypothesis, which is that all goals can be described as the maximization of the return (cumulative reward). In Reinforcement Learning, to have the best behavior, we need to maximize the return."
   ]
  },
  {
   "cell_type": "markdown",
   "id": "e93342b1-a529-40f7-97cb-67392dae519a",
   "metadata": {},
   "source": [
    "## Rewards and the discounting\n",
    "\n",
    "The reward is fundamental in RL because it’s the only feedback the agent gets. It enables the agent to know if the action taken was good or not.\n",
    "\n",
    "The cumulative reward at each time step t can be written as:\n",
    "\n",
    "![](reward.svg)\n",
    "\n",
    "Wich is equivalent to:\n",
    "\n",
    "![](reward_sum.svg)\n",
    "\n",
    "Now imagine you want to calculate the expected return of a state. You want to know the cumulative reward you can expect to get given your current state.\n",
    "\n",
    "You could sum all the reward you expect to get in the future until the end of the run. However, in practice, the rewards that come sooner are more likely to happen since they are more predictable than the long-term future reward. That is why we introduce a discount rate for future potential rewards.\n",
    "\n",
    "Let's say your agent is at the start of the following track. Your goal is to cross the maximum number of checkpoints before falling off the road.\n",
    "\n",
    "<img src=\"discount_track.png\" style=\"border-radius:10px; width:100%\">\n",
    "\n",
    "It's more probable to cross the checkpoints near your position than the ones close to the finish. The farther a checkpoint is from your position, the more likely it is to fall off before getting it.\n",
    "\n",
    "Consequently, the reward given for crossing a checkpoint far away is discounted more. We are not sure we'll be able to cross the far away checkpoint.\n",
    "\n",
    "In practice, to discount the rewards, we proceed like this:\n",
    "\n",
    "1. We define a discount rate called gamma. It must be between 0 and 1. Most of the time between 0.99 and 0.90.\n",
    "- The larger the gamma, the smaller the discount. This means our agent cares more about the long-term reward.\n",
    "\n",
    "- On the other hand, the smaller the gamma, the bigger the discount. This means our agent cares more about the short term reward (the nearest checkpoints here).\n",
    "\n",
    "2. Then, each reward will be discounted by gamma to the exponent of the time step. As the time step increases, the car will have more opportunities to fall off, so the future reward is less and less likely to happen.\n",
    "\n",
    "The discounted cumulative reward can be written as:\n",
    "\n",
    "![](reward_gamma.svg)\n",
    "\n",
    "Or:\n",
    "\n",
    "![](reward_gamma_sum.svg)"
   ]
  },
  {
   "cell_type": "markdown",
   "id": "f0e4894f-6bf2-4a5e-aa30-19b5ef078f61",
   "metadata": {},
   "source": [
    "## Exploration/Exploitation tradeoff\n",
    "\n",
    "Before looking at how to solve Reinforcement Learning problems, we must cover a very important topic: the exploration/exploitation trade-off.\n",
    "\n",
    "- Exploration is exploring the environment by trying random actions in order to find more information about the environment.\n",
    "\n",
    "- Exploitation is exploiting known information to maximize the reward.\n",
    "\n",
    "Remember, the goal of our RL agent is to maximize the expected cumulative reward. However, we can fall into a common trap.\n",
    "\n",
    "Let's take an example:\n",
    "\n",
    "<img src=\"exploration_track.png\" style=\"border-radius:10px; width:100%\">\n",
    "\n",
    "Here our RL agent is rewarded for reaching the finish line fast. The faster it cross the finish line, the more reward it gets.\n",
    "\n",
    "Now consider that our RL agent learnt that going forward in a straight line is a good way to reach its destination if there is no obstacle in between. The agent will always take the road on the left and never try the road on the right even if the right road is actually faster (exploitation).\n",
    "\n",
    "But if our agent does a little bit of exploration and try the road on the right, it will discover a faster route that yields a bigger reward (exploration).\n",
    "\n",
    "This is what we call the exploration/exploitation trade-off. We need to balance how much we explore the environment and how much we exploit what we know about the environment.\n",
    "\n",
    "Therefore, we must define a rule that helps to handle this trade-off. We’ll see in future post how PedroAI handles this trade-off."
   ]
  },
  {
   "cell_type": "markdown",
   "id": "e780f73d-440d-4b06-9956-284dc98c2e18",
   "metadata": {},
   "source": [
    "## How to solve Reinforcement Learning problems\n",
    "\n",
    "In other words, how to build an RL agent that can select the actions that maximize its expected cumulative reward?"
   ]
  },
  {
   "cell_type": "markdown",
   "id": "ae41a630-8514-4fee-8651-a0f3dad2b84d",
   "metadata": {},
   "source": [
    "## The Policy π: the agent’s brain\n",
    "\n",
    "The Policy π is the brain of our agent. It’s the function that tells us what action to take given the state we are in. So, it defines the agent’s behavior at a given time.\n",
    "\n",
    "![Policy π](policy.svg){fig-align=center}\n",
    "\n",
    "This policy is the function we want to learn. Our goal is to find the optimal policy π, the policy that maximizes expected return when the agent acts according to it. We find this π through training.\n",
    "\n",
    "There are two approaches to train our agent to find this optimal policy π*:\n",
    "\n",
    "- Directly, by teaching the agent to learn which action to take given the state it is in: Policy-Based Methods. We will not discuss this method here, see https://huggingface.co/blog/deep-rl-intro#policy-based-methods for more information. \n",
    "- Indirectly, teach the agent to learn which state is more valuable and then take the action that leads to the more valuable states: Value-Based Methods. This is the method PedroAI uses."
   ]
  },
  {
   "cell_type": "markdown",
   "id": "96862db1-920d-4408-8072-8fd4eb956742",
   "metadata": {},
   "source": [
    "## Value-based methods\n",
    "\n",
    "In value-based methods, instead of training a policy function, we train a value function that maps a state to the expected value of being at that state.\n",
    "\n",
    "The value of a state is the expected discounted return the agent can get if it starts in that state, and then act according to our policy.\n",
    "\n",
    "\"Act according to our policy\" just means that our policy is \"going to the state with the highest value\".\n",
    "\n",
    "![](value_function.svg)\n",
    "\n",
    "Here we see that our value function defined value for each possible state.\n",
    "\n",
    "![](state_value.svg)\n",
    "\n",
    "Thanks to our value function, at each step our policy will select the state with the biggest value defined by the value function: -8, then -7, then -6 (and so on) to attain the goal."
   ]
  },
  {
   "cell_type": "markdown",
   "id": "97b0c2a3-faef-4d06-b393-bef5f2309836",
   "metadata": {},
   "source": [
    "## The \"Deep\" in Reinforcement Learning\n",
    "\n",
    "⇒ What we've talked about so far is Reinforcement Learning. But where does the \"Deep\" come into play?\n",
    "\n",
    "Deep Reinforcement Learning introduces deep neural networks to solve Reinforcement Learning problems — hence the name \"deep\".\n",
    "\n",
    "For instance, PedroAI uses Deep Q-Learning. It uses a Neural Network to approximate the expected value of a state for each action it could take.\n",
    "\n",
    "![Deep Q learning for Trackmania](deep_q_network.svg)\n",
    "\n",
    "If you want to learn about deep learning in general, not only reinforcement learning, you should definitely watch [the fastai Practical Deep Learning for Coders (Free)](https://course.fast.ai)."
   ]
  },
  {
   "cell_type": "markdown",
   "id": "c0aaa91a-acef-47be-978f-a989d5d54a4d",
   "metadata": {},
   "source": [
    "That was a lot of information, if we summarize:\n",
    "\n",
    "- Reinforcement Learning is a computational approach of learning from action. We build an agent that learns from the environment by interacting with it through trial and error and receiving rewards, negative or positive, as feedback.\n",
    "\n",
    "- The goal of any RL agent is to maximize its expected cumulative reward (also called expected return) because RL is based on the reward hypothesis, which is that all goals can be described as the maximization of the expected cumulative reward.\n",
    "- The RL process is a loop that outputs a sequence of state, action, reward and next state.\n",
    "- To calculate the expected cumulative reward (expected return), we discount the rewards: the rewards that come sooner (at the beginning of the game) are more probable to happen since they are more predictable than the long-term future reward.\n",
    "- To solve an RL problem, you want to find an optimal policy, the policy is the \"brain\" of your AI that will tell us what action to take given a state. The optimal one is the one who gives you the actions that maximize the expected return.\n",
    "- There are two ways to find your optimal policy:\n",
    "    1. By training your policy directly: policy-based methods.\n",
    "    2. By training a value function that tells us the expected return the agent will get at each state and use this function to define our policy: value-based methods.\n",
    "- Finally, we speak about Deep RL because we introduce deep neural networks to estimate the value of a state hence, the name \"deep\".\n",
    "\n",
    "I encourage you to read the next blog post in this series [How PedroAI works](../pedroai-rl/pedroai-rl.html)."
   ]
  },
  {
   "cell_type": "code",
   "execution_count": null,
   "id": "d2e00eb4-316d-495d-8c7e-c178ef48f30f",
   "metadata": {},
   "outputs": [],
   "source": []
  }
 ],
 "metadata": {
  "kernelspec": {
   "display_name": "python3",
   "language": "python",
   "name": "python3"
  }
 },
 "nbformat": 4,
 "nbformat_minor": 5
}
