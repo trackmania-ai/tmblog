{
 "cells": [
  {
   "cell_type": "markdown",
   "metadata": {},
   "source": [
    "# Trackmania AI / Pedro AI"
   ]
  },
  {
   "cell_type": "markdown",
   "metadata": {},
   "source": [
    "This is the website of the Pedro AI project. It features an AI learning to play the popular racing game [Trackmania](https://www.ubisoft.com/en-us/game/trackmania/trackmania). The entire process is streamed on [Twitch](https://www.twitch.tv/pedroaitm) allowing viewers to watch the AI improve over time."
   ]
  },
  {
   "cell_type": "code",
   "execution_count": null,
   "metadata": {},
   "outputs": [],
   "source": []
  }
 ],
 "metadata": {
  "kernelspec": {
   "display_name": "python3",
   "language": "python",
   "name": "python3"
  }
 },
 "nbformat": 4,
 "nbformat_minor": 4
}
